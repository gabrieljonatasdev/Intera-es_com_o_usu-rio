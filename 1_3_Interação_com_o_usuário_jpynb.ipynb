{
  "nbformat": 4,
  "nbformat_minor": 0,
  "metadata": {
    "colab": {
      "provenance": []
    },
    "kernelspec": {
      "name": "python3",
      "display_name": "Python 3"
    },
    "language_info": {
      "name": "python"
    }
  },
  "cells": [
    {
      "cell_type": "markdown",
      "source": [
        "Visualização de variáveis e texto"
      ],
      "metadata": {
        "id": "NMTIs5dnlelk"
      }
    },
    {
      "cell_type": "code",
      "source": [
        "print (\"Conhecendo o comando print\")\n",
        "\n",
        "x = 8\n",
        "print (x)"
      ],
      "metadata": {
        "colab": {
          "base_uri": "https://localhost:8080/"
        },
        "id": "NR5-vDItmDMA",
        "outputId": "c2627e4e-1d6d-4606-b6c4-406e99955fb9"
      },
      "execution_count": null,
      "outputs": [
        {
          "output_type": "stream",
          "name": "stdout",
          "text": [
            "Conhecendo o comando print\n",
            "8\n"
          ]
        }
      ]
    },
    {
      "cell_type": "code",
      "execution_count": null,
      "metadata": {
        "colab": {
          "base_uri": "https://localhost:8080/"
        },
        "id": "YfIwMIuuko38",
        "outputId": "4fa9873d-5005-41ca-ae63-e0adab70cc49"
      },
      "outputs": [
        {
          "output_type": "stream",
          "name": "stdout",
          "text": [
            "18\n"
          ]
        }
      ],
      "source": [
        "y = 10\n",
        "soma = y + x\n",
        "print (soma)"
      ]
    },
    {
      "cell_type": "code",
      "source": [
        "nome = \"Gabriel Jônatas\"\n",
        "print (nome)"
      ],
      "metadata": {
        "colab": {
          "base_uri": "https://localhost:8080/"
        },
        "id": "9S1i2ZoSnNoT",
        "outputId": "c23c80f8-d7c0-47b7-ccc1-5b6e5036579f"
      },
      "execution_count": null,
      "outputs": [
        {
          "output_type": "stream",
          "name": "stdout",
          "text": [
            "Gabriel Jônatas\n"
          ]
        }
      ]
    },
    {
      "cell_type": "markdown",
      "source": [
        "Concatenação"
      ],
      "metadata": {
        "id": "e7vT2RDcn3bb"
      }
    },
    {
      "cell_type": "code",
      "source": [
        "x = 5\n",
        "print (\"O valor de x é\", x)"
      ],
      "metadata": {
        "colab": {
          "base_uri": "https://localhost:8080/"
        },
        "id": "ezQgtNH-n8Yb",
        "outputId": "3b1b9958-90f9-424f-afd1-d35c33f98f28"
      },
      "execution_count": null,
      "outputs": [
        {
          "output_type": "stream",
          "name": "stdout",
          "text": [
            "O valor de x é 5\n"
          ]
        }
      ]
    },
    {
      "cell_type": "code",
      "source": [
        "print (\"O valor de x é\", x, \"e o dobro do valor de x é\", x * 2)"
      ],
      "metadata": {
        "colab": {
          "base_uri": "https://localhost:8080/"
        },
        "id": "5Dk5cDxLohU7",
        "outputId": "6442a847-8857-45f6-88ec-ad3cd65602d1"
      },
      "execution_count": null,
      "outputs": [
        {
          "output_type": "stream",
          "name": "stdout",
          "text": [
            "O valor de x é 5 e o dobro do valor de x é 10\n"
          ]
        }
      ]
    },
    {
      "cell_type": "code",
      "source": [
        "print ('Eu,', nome, 'tirei', x, 'na prova de pyton')"
      ],
      "metadata": {
        "colab": {
          "base_uri": "https://localhost:8080/"
        },
        "id": "IWJLYdotpCd7",
        "outputId": "09e1b462-ac70-4135-81d9-82f37d85c58e"
      },
      "execution_count": null,
      "outputs": [
        {
          "output_type": "stream",
          "name": "stdout",
          "text": [
            "Eu, Gabriel Jônatas tirei 5 na prova de pyton\n"
          ]
        }
      ]
    },
    {
      "cell_type": "code",
      "source": [
        "y = 10; z = 20 + x - y\n",
        "\n",
        "print ('Declarar variaveis na mesma linha:', x, y)"
      ],
      "metadata": {
        "colab": {
          "base_uri": "https://localhost:8080/"
        },
        "id": "uCjrzkd8ptID",
        "outputId": "fe84d751-9d47-43be-8a19-30fb6b8b3ad0"
      },
      "execution_count": null,
      "outputs": [
        {
          "output_type": "stream",
          "name": "stdout",
          "text": [
            "Declarar variaveis na mesma linha: 5 10\n"
          ]
        }
      ]
    },
    {
      "cell_type": "markdown",
      "source": [
        "Imput\n",
        "\n",
        "* Armazenar informações digitadas pelo usuário em uma variável\n",
        "* O dado armazenado sempre será um texto"
      ],
      "metadata": {
        "id": "3LQlXG6TrF_s"
      }
    },
    {
      "cell_type": "code",
      "source": [
        "nome = input('Digite o nome do usuário') # Aguarde o usuário digitar algo\n",
        "print(nome)"
      ],
      "metadata": {
        "colab": {
          "base_uri": "https://localhost:8080/"
        },
        "id": "VZMhBbGBrkN1",
        "outputId": "2cebb6d4-9c46-4423-a9a7-ef4434c156dc"
      },
      "execution_count": null,
      "outputs": [
        {
          "output_type": "stream",
          "name": "stdout",
          "text": [
            "Digite o nome do usuárioGabriel Jônatas\n",
            "Gabriel Jônatas\n"
          ]
        }
      ]
    },
    {
      "cell_type": "code",
      "source": [
        "valor = input('Digite a nota')\n",
        "print(nome, 'sua nota foi', valor)"
      ],
      "metadata": {
        "colab": {
          "base_uri": "https://localhost:8080/"
        },
        "id": "UgdzdzPNsbgn",
        "outputId": "eaa9b912-883f-40e9-ee9a-261ba018f7f2"
      },
      "execution_count": null,
      "outputs": [
        {
          "output_type": "stream",
          "name": "stdout",
          "text": [
            "Digite a nota10\n",
            "Gabriel Jônatas sua nota foi 10\n"
          ]
        }
      ]
    },
    {
      "cell_type": "code",
      "source": [
        "valor = input('Digite o valor do produto:')\n",
        "print(valor)"
      ],
      "metadata": {
        "colab": {
          "base_uri": "https://localhost:8080/"
        },
        "id": "xjugLBsTt7AN",
        "outputId": "1ba17531-28e4-4a85-c0a9-1d7e465c1b2c"
      },
      "execution_count": null,
      "outputs": [
        {
          "output_type": "stream",
          "name": "stdout",
          "text": [
            "Digite o valor do produto:100\n",
            "100\n"
          ]
        }
      ]
    },
    {
      "cell_type": "code",
      "source": [
        "valor_convet = int(valor) # conerti a variável 'valor' para uma variável int, antes era uma string\n",
        "desconto = valor_convet - 5  #Quando a converção for nessa e em outras linhas do código\n",
        "print(desconto)"
      ],
      "metadata": {
        "colab": {
          "base_uri": "https://localhost:8080/"
        },
        "id": "hW3wNsTGw8mL",
        "outputId": "cc766b46-c4f2-4e86-b451-c6da3f4e6ae3"
      },
      "execution_count": null,
      "outputs": [
        {
          "output_type": "stream",
          "name": "stdout",
          "text": [
            "95\n"
          ]
        }
      ]
    },
    {
      "cell_type": "code",
      "source": [
        "desconto = int(valor) - 5 # Quando a converção for só neessa linha do código\n",
        "print(desconto)"
      ],
      "metadata": {
        "colab": {
          "base_uri": "https://localhost:8080/"
        },
        "id": "encnCIwJx6In",
        "outputId": "d0e9e1f4-8fb3-4d3f-90bc-0e1deed76283"
      },
      "execution_count": null,
      "outputs": [
        {
          "output_type": "stream",
          "name": "stdout",
          "text": [
            "95\n"
          ]
        }
      ]
    }
  ]
}